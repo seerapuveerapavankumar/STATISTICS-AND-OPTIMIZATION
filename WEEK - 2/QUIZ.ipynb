{
 "cells": [
  {
   "cell_type": "code",
   "execution_count": 1,
   "id": "4b4c53cb-4bf8-4b1c-832f-1041a6f4975f",
   "metadata": {},
   "outputs": [
    {
     "name": "stdout",
     "output_type": "stream",
     "text": [
      "Sample Mean: 149.125\n",
      "Sample Standard Deviation: 20.999574825627846\n",
      "t Critical Value: 2.3646242515927844\n",
      "Margin of Error: 17.556083899553478\n",
      "Confidence Interval: (131.56891610044653, 166.68108389955347)\n"
     ]
    }
   ],
   "source": [
    "import numpy as np\n",
    "from scipy.stats import t\n",
    "\n",
    "\n",
    "data = np.array([142, 127, 171, 137, 161, 183, 148, 124])\n",
    "n = len(data)  \n",
    "\n",
    "\n",
    "mean = np.mean(data)\n",
    "\n",
    "std_dev = np.std(data, ddof=1)  \n",
    "\n",
    "\n",
    "confidence_level = 0.95  \n",
    "alpha = 1 - confidence_level\n",
    "df = n - 1  \n",
    "t_critical = t.ppf(1 - alpha / 2, df)  \n",
    "\n",
    "\n",
    "margin_of_error = t_critical * (std_dev / np.sqrt(n))\n",
    "print()\n",
    "\n",
    "\n",
    "confidence_interval = (mean - margin_of_error, mean + margin_of_error)\n",
    "\n",
    "\n",
    "print(f\"Sample Mean: {mean}\")\n",
    "print(f\"Sample Standard Deviation: {std_dev}\")\n",
    "print(f\"t Critical Value: {t_critical}\")\n",
    "print(f\"Margin of Error: {margin_of_error}\")\n",
    "print(f\"Confidence Interval: {confidence_interval}\")"
   ]
  },
  {
   "cell_type": "code",
   "execution_count": 5,
   "id": "2172a298-554c-4b66-acac-82cbe6c132cb",
   "metadata": {},
   "outputs": [
    {
     "name": "stdout",
     "output_type": "stream",
     "text": [
      "\n",
      "Sample Mean: 149.125\n",
      "Sample Standard Deviation: 20.999574825627846\n",
      "t Critical Value: 3.4994832973505026\n",
      "Margin of Error: 25.98181183838745\n",
      "Confidence Interval: (123.14318816161256, 175.10681183838744)\n"
     ]
    }
   ],
   "source": [
    "import numpy as np\n",
    "from scipy.stats import t\n",
    "\n",
    "\n",
    "data = np.array([142, 127, 171, 137, 161, 183, 148, 124])\n",
    "n = len(data)  \n",
    "\n",
    "\n",
    "mean = np.mean(data)\n",
    "\n",
    "std_dev = np.std(data, ddof=1)  \n",
    "\n",
    "\n",
    "confidence_level = 0.99 \n",
    "alpha = 1 - confidence_level\n",
    "df = n - 1  \n",
    "t_critical = t.ppf(1 - alpha / 2, df)  \n",
    "\n",
    "\n",
    "margin_of_error = t_critical * (std_dev / np.sqrt(n))\n",
    "print()\n",
    "\n",
    "\n",
    "confidence_interval = (mean - margin_of_error, mean + margin_of_error)\n",
    "\n",
    "\n",
    "print(f\"Sample Mean: {mean}\")\n",
    "print(f\"Sample Standard Deviation: {std_dev}\")\n",
    "print(f\"t Critical Value: {t_critical}\")\n",
    "print(f\"Margin of Error: {margin_of_error}\")\n",
    "print(f\"Confidence Interval: {confidence_interval}\")"
   ]
  },
  {
   "cell_type": "code",
   "execution_count": null,
   "id": "f943803c-f43a-4d37-b5ab-c49dc4052ba1",
   "metadata": {},
   "outputs": [],
   "source": []
  }
 ],
 "metadata": {
  "kernelspec": {
   "display_name": "Python [conda env:base] *",
   "language": "python",
   "name": "conda-base-py"
  },
  "language_info": {
   "codemirror_mode": {
    "name": "ipython",
    "version": 3
   },
   "file_extension": ".py",
   "mimetype": "text/x-python",
   "name": "python",
   "nbconvert_exporter": "python",
   "pygments_lexer": "ipython3",
   "version": "3.12.7"
  }
 },
 "nbformat": 4,
 "nbformat_minor": 5
}
