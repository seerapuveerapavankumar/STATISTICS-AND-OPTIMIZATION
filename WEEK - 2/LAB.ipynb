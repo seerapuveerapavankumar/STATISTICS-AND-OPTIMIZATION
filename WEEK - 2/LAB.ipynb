{
 "cells": [
  {
   "cell_type": "code",
   "execution_count": 25,
   "id": "9700d7fa-1b91-4332-bb71-43359a7e6549",
   "metadata": {},
   "outputs": [],
   "source": [
    "import numpy as np\n",
    "import scipy.stats as stats\n",
    "import math"
   ]
  },
  {
   "cell_type": "code",
   "execution_count": 26,
   "id": "393c1229-edb1-4b3a-ac55-976a6087c9e0",
   "metadata": {},
   "outputs": [],
   "source": [
    "# Question 1\n",
    "\n",
    "# Dole Pineapple Inc. is concerned that the 16-ounce can of sliced pineapple is being overfilled. \n",
    "# Assume the standard deviation of the process is 0.03 ounces. \n",
    "# The quality- control department took a random sample of 50 cans and found that the arithmetic mean weight was 16.05 ounces. \n",
    "#At the 5% level of significance, can we conclude that the mean weight is greater than 16 ounces?\n"
   ]
  },
  {
   "cell_type": "code",
   "execution_count": 27,
   "id": "f846a3b8-050c-4160-8f20-7863d125f151",
   "metadata": {},
   "outputs": [
    {
     "name": "stdout",
     "output_type": "stream",
     "text": [
      "Calculated Z-score: 11.7851\n",
      "Critical Z-value at alpha 0.05: 1.6449\n",
      "Reject the null hypothesis: The mean weight is significantly greater than 16 ounces.\n"
     ]
    }
   ],
   "source": [
    "# Given data\n",
    "\n",
    "population_mean = 16  # Claimed mean weight (null hypothesis)\n",
    "sample_mean = 16.05   # Sample mean weight\n",
    "std_dev = 0.03        # Population standard deviation\n",
    "n = 50                # Sample size\n",
    "alpha = 0.05          # Significance level\n",
    "\n",
    "# Compute Z-score\n",
    "\n",
    "denominator = std_dev / math.sqrt(n)\n",
    "Z = (sample_mean - population_mean) / denominator\n",
    "\n",
    "# Critical Z-value for one-tailed test\n",
    "\n",
    "Z_critical = stats.norm.ppf(1 - alpha)\n",
    "\n",
    "# Output results\n",
    "\n",
    "print(f\"Calculated Z-score: {Z:.4f}\")\n",
    "print(f\"Critical Z-value at alpha {alpha}: {Z_critical:.4f}\")\n",
    "\n",
    "# Decision Rule\n",
    "\n",
    "if Z > Z_critical:\n",
    "    print(\"Reject the null hypothesis: The mean weight is significantly greater than 16 ounces.\")\n",
    "else:\n",
    "    print(\"Fail to reject the null hypothesis: No significant evidence that the mean weight is greater than 16 ounces.\")"
   ]
  },
  {
   "cell_type": "code",
   "execution_count": 28,
   "id": "66ac0d5a-4b51-4990-b1d5-5794c3f44302",
   "metadata": {},
   "outputs": [],
   "source": [
    "# Question 2 \n",
    "\n",
    "# Annual per capita consumption of milk in Ireland is 21.6 gallons. \n",
    "# Being from Cork, you believe milk consumption is higher there and wish to support your opinion.\n",
    "# A sample of 16 individuals from Cork showed a sample mean annual consumption of 24.1 gallons with a standard deviation of s = 4.8.\n",
    "# Develop a hypothesis test that can be used to determine whether the mean annual consumption in Cork is higher than the national mean. \n",
    "# At α =0.05, test for a significant difference. What is your conclusion?\n"
   ]
  },
  {
   "cell_type": "code",
   "execution_count": 29,
   "id": "1ac6c6af-87bf-4475-8437-6c756e7ddb3c",
   "metadata": {},
   "outputs": [
    {
     "name": "stdout",
     "output_type": "stream",
     "text": [
      "Calculated t-statistic: inf\n",
      "Critical t-value at alpha 0.05: 1.7531\n",
      "P-value: 0.0000\n",
      "Reject the null hypothesis: Milk consumption in Cork is significantly higher than the national average.\n"
     ]
    }
   ],
   "source": [
    "# Given data\n",
    "\n",
    "national_mean = 21.6  # National average milk consumption (gallons)\n",
    "sample_mean = 24.1    # Sample mean (Cork)\n",
    "sample_std = 4.8      # Sample standard deviation\n",
    "n = 16                # Sample size\n",
    "alpha = 0.05          # Significant difference\n",
    "\n",
    "# Perform one-sample t-test\n",
    "# Null Hypothesis H0: mean consumption <= 21.6\n",
    "# Alternative Hypothesis Ha: mean consumption > 21.6 (one-tailed test)\n",
    "\n",
    "# Degrees of freedom\n",
    "\n",
    "df = n-1\n",
    "t_stat, p_value = stats.ttest_1samp(a=[sample_mean] * n, popmean=national_mean, alternative='greater')\n",
    "\n",
    "# Critical t-value for one-tailed test at df = n-1\n",
    "\n",
    "critical_t = stats.t.ppf(1 - alpha, df=n - 1)\n",
    "\n",
    "# Output results\n",
    "\n",
    "print(f\"Calculated t-statistic: {t_stat:.4f}\")\n",
    "print(f\"Critical t-value at alpha {alpha}: {critical_t:.4f}\")\n",
    "print(f\"P-value: {p_value:.4f}\")\n",
    "\n",
    "# Decision Rule\n",
    "\n",
    "if t_stat > critical_t and p_value < alpha:\n",
    "    print(\"Reject the null hypothesis: Milk consumption in Cork is significantly higher than the national average.\")\n",
    "else:\n",
    "    print(\"Fail to reject the null hypothesis: No significant evidence that Cork's milk consumption is higher than the national average.\")"
   ]
  },
  {
   "cell_type": "code",
   "execution_count": 30,
   "id": "b4545a2b-7d7d-4fb4-a1af-6239d2f1e436",
   "metadata": {},
   "outputs": [],
   "source": [
    "# Question 3\n",
    "\n",
    "# According to a recent survey, Americans get a mean of 7 hours of sleep per night. \n",
    "# A ran- dom sample of 50 students at West Virginia University revealed the mean number of hours slept last night was 6 hours and 48 minutes (6.8 hours).\n",
    "# The standard deviation of the sample was 0.9 hours. Is it reasonable to conclude that students at West Virginia sleep less than the typical American?\n"
   ]
  },
  {
   "cell_type": "code",
   "execution_count": 34,
   "id": "32a81bce-1f7b-470a-aa2e-bb3d01783302",
   "metadata": {},
   "outputs": [
    {
     "name": "stdout",
     "output_type": "stream",
     "text": [
      "Calculated t-score: -1.5713\n",
      "Critical t-value at alpha 0.05: -1.6766\n",
      "Fail to reject the null hypothesis: No significant evidence that WVU students sleep less.\n"
     ]
    }
   ],
   "source": [
    "# Given data\n",
    "\n",
    "population_mean = 7     # National average sleep hours\n",
    "sample_mean = 6.8       # Sample mean sleep hours\n",
    "std_dev = 0.9           # Sample standard deviation\n",
    "n = 50                  # Sample size\n",
    "alpha = 0.05            # Significance level\n",
    "\n",
    "# Compute t-score\n",
    "\n",
    "denominator = std_dev / math.sqrt(n)\n",
    "t_score = (sample_mean - population_mean) / denominator\n",
    "\n",
    "# Critical t-value for one-tailed test\n",
    "\n",
    "t_critical = stats.t.ppf(alpha, df=n-1)\n",
    "\n",
    "# Output results\n",
    "\n",
    "print(f\"Calculated t-score: {t_score:.4f}\")\n",
    "print(f\"Critical t-value at alpha {alpha}: {t_critical:.4f}\")\n",
    "\n",
    "# Decision Rule\n",
    "\n",
    "if t_score < t_critical:\n",
    "    print(\"Reject the null hypothesis: Students at WVU sleep significantly less than the typical American.\")\n",
    "else:\n",
    "    print(\"Fail to reject the null hypothesis: No significant evidence that WVU students sleep less.\")"
   ]
  },
  {
   "cell_type": "code",
   "execution_count": 32,
   "id": "3c8493b0-70fe-4835-babe-1289018f3286",
   "metadata": {},
   "outputs": [],
   "source": [
    "# Question 4\n",
    "\n",
    "# As part of a study of corporate employees, the director of human resources for PNC Inc. \n",
    "# wants to compare the distance traveled to work by employees at its office in downtown Cincinnati with the distance for those in downtown Pittsburgh. \n",
    "# A sample of 35 Cincinnati employees showed they travel a mean of 370 miles per month. \n",
    "# A sample of 40 Pittsburgh employees showed they travel a mean of 380 miles per month. \n",
    "# The population standard deviation for the Cincinnati and Pittsburgh employees are 30 and 26 miles, respectively. \n",
    "# At the .05 significance level, is there a difference in the mean number of miles traveled per month between Cincinnati and Pittsburgh employees?"
   ]
  },
  {
   "cell_type": "code",
   "execution_count": 35,
   "id": "64b5fab3-a353-467a-aea8-b7d38bd63d59",
   "metadata": {},
   "outputs": [
    {
     "name": "stdout",
     "output_type": "stream",
     "text": [
      "Calculated Z-score: -1.5319\n",
      "Critical Z-value at alpha 0.05: ±1.9600\n",
      "Fail to reject the null hypothesis: No significant difference in travel distances.\n"
     ]
    }
   ],
   "source": [
    "# Given data\n",
    "\n",
    "mean_C = 370  # Cincinnati mean travel distance\n",
    "std_C = 30    # Cincinnati standard deviation\n",
    "n_C = 35      # Cincinnati sample size\n",
    "\n",
    "mean_P = 380  # Pittsburgh mean travel distance\n",
    "std_P = 26    # Pittsburgh standard deviation\n",
    "n_P = 40      # Pittsburgh sample size\n",
    "\n",
    "alpha = 0.05  # Significance level\n",
    "\n",
    "# Compute Z-score\n",
    "\n",
    "denominator = math.sqrt((std_C**2 / n_C) + (std_P**2 / n_P))\n",
    "Z = (mean_C - mean_P) / denominator\n",
    "\n",
    "# Critical Z-value for two-tailed test\n",
    "\n",
    "Z_critical = stats.norm.ppf(1 - alpha/2)\n",
    "\n",
    "# Output results\n",
    "\n",
    "print(f\"Calculated Z-score: {Z:.4f}\")\n",
    "print(f\"Critical Z-value at alpha {alpha}: ±{Z_critical:.4f}\")\n",
    "\n",
    "# Decision Rule\n",
    "\n",
    "if abs(Z) > Z_critical:\n",
    "    print(\"Reject the null hypothesis: There is a significant difference in travel distances.\")\n",
    "else:\n",
    "    print(\"Fail to reject the null hypothesis: No significant difference in travel distances.\")\n"
   ]
  },
  {
   "cell_type": "code",
   "execution_count": null,
   "id": "296cb7e5-650d-4351-9fed-0b114ebb07f9",
   "metadata": {},
   "outputs": [],
   "source": []
  }
 ],
 "metadata": {
  "kernelspec": {
   "display_name": "Python 3 (ipykernel)",
   "language": "python",
   "name": "python3"
  },
  "language_info": {
   "codemirror_mode": {
    "name": "ipython",
    "version": 3
   },
   "file_extension": ".py",
   "mimetype": "text/x-python",
   "name": "python",
   "nbconvert_exporter": "python",
   "pygments_lexer": "ipython3",
   "version": "3.12.7"
  }
 },
 "nbformat": 4,
 "nbformat_minor": 5
}
